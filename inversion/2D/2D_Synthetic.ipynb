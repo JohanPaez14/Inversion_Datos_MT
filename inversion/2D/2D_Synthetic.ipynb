{
 "cells": [
  {
   "cell_type": "markdown",
   "id": "50a5b9d2",
   "metadata": {
    "iooxa": {
     "id": {
      "block": "POo5Xko96YBlOmmEgRhw",
      "project": "BZ9XlZu3TFKIem4fwsfm",
      "version": 1
     },
     "outputId": null
    }
   },
   "source": [
    "# **2D MT inversion**\n",
    "**Elaborado por:** \\\n",
    "Ivan Camilo Caballero Jaimes 2210623\\\n",
    "Johan Enrique Páez Romero 2210631\\\n",
    "Semillero de Investigación en Geofísica Aplicada y Computacional - **SIGAC**"
   ]
  },
  {
   "cell_type": "markdown",
   "id": "120307d5",
   "metadata": {},
   "source": [
    "## Librerías"
   ]
  },
  {
   "cell_type": "code",
   "execution_count": 2,
   "id": "ecd430f1",
   "metadata": {},
   "outputs": [],
   "source": [
    "import matplotlib.pyplot as plt\n",
    "import scipy.sparse as sp\n",
    "import numpy as np\n",
    "import unittest\n",
    "from scipy.constants import mu_0\n",
    "from discretize.tests import check_derivative\n",
    "import discretize\n",
    "import matplotlib.patheffects as pe\n",
    "from SimPEG.electromagnetics import natural_source as nsem\n",
    "from SimPEG.electromagnetics.static import utils as sutils\n",
    "from SimPEG import (\n",
    "    maps, utils, optimization, objective_function, inversion, inverse_problem, directives,\n",
    "    data_misfit, regularization, data\n",
    ")\n",
    "from discretize import TensorMesh\n",
    "## ERROR-----> \n",
    "from pymatsolver import Solver\n",
    "# Antes -> \"import Pardiso\"\n",
    "# Corregir -> \"import Solver\"\n",
    "\n",
    "from scipy.spatial import cKDTree\n",
    "from scipy.stats import norm\n",
    "# from dask.distributed import Client, LocalCluster\n",
    "import dill\n",
    "from geoana.em.fdem import skin_depth\n",
    "import discretize.utils as dis_utils\n",
    "import warnings\n",
    "warnings.filterwarnings(\"ignore\")"
   ]
  },
  {
   "cell_type": "markdown",
   "id": "c1f6706b",
   "metadata": {},
   "source": [
    "## Parámetros de Inversión y Errores"
   ]
  },
  {
   "cell_type": "code",
   "execution_count": null,
   "id": "4d451f53",
   "metadata": {},
   "outputs": [],
   "source": [
    "input_data = dill.load(open(\"./synthetic_2d.pik\", \"rb\"))\n",
    "nskip_freq = 7\n",
    "nskip_rx = 3\n",
    "# a decent setup\n",
    "# nskip_freq = 7\n",
    "# nskip_rx = 3\n",
    "relative_error =  0.05\n",
    "floor_error = 2\n",
    "alpha_s = 1.#1e-5\n",
    "alpha_y = 1.#0.2\n",
    "alpha_z = 1.\n",
    "rho_0 = 100.\n",
    "maxIter = 30\n",
    "use_irls = True\n",
    "p_s=0.\n",
    "p_y=2.\n",
    "p_z=2.\n",
    "\n",
    "rx_locs = input_data['rx_locs'][::nskip_rx,:]\n",
    "frequencies = input_data['frequencies'][::nskip_freq]\n",
    "app_rho_te = input_data['app_rho_te'][::nskip_freq,::nskip_rx]\n",
    "app_rho_tm = input_data['app_rho_tm'][::nskip_freq,::nskip_rx]\n",
    "phase_te = input_data['phase_te'][::nskip_freq,::nskip_rx]\n",
    "phase_tm = input_data['phase_tm'][::nskip_freq,::nskip_rx]\n",
    "\n",
    "\n",
    "app_rho_err_tm = abs(app_rho_tm) * relative_error\n",
    "app_rho_err_te = abs (app_rho_te) * relative_error\n",
    "phase_err_tm = np.ones_like(phase_tm) * floor_error\n",
    "phase_err_te = np.ones_like(phase_te) * floor_error\n"
   ]
  },
  {
   "cell_type": "markdown",
   "id": "07ff7cc3",
   "metadata": {},
   "source": [
    "## Crear el Modelo Mesh"
   ]
  },
  {
   "cell_type": "code",
   "execution_count": 3,
   "id": "98c0fea6",
   "metadata": {},
   "outputs": [],
   "source": [
    "def generate_2d_mesh_for_mt( # Parámetros\n",
    "    rx_locs, #Ubicación de los receptores\n",
    "    frequencies, #Frecuencias de la señal\n",
    "    sigma_background,  # Conductividad de fondo\n",
    "    z_factor_max=5, # Los demas son factores y límites para configuar las dimensiones de las celdas del mesh\n",
    "    z_factor_min=5,\n",
    "    pfz_down = 1.2,\n",
    "    pfz_up = 1.5,\n",
    "    npadz_up = 5,\n",
    "    x_factor_max = 2,\n",
    "    spacing_factor = 4,\n",
    "    pfx = 1.5,\n",
    "    n_max=1000\n",
    "):\n",
    "    # Cálculo de la dimensión en profundidad -------\n",
    "    f_min = frequencies.min() # Frecuencia mínima\n",
    "    f_max = frequencies.max() # Frecuencia máxima\n",
    "    dz_min = np.round(skin_depth(f_max, sigma_background) / z_factor_max) # Tamaño mínimo de celda en profundidad, basado en la profunidad de penetración de la señal (skin depth)\n",
    "    lz = skin_depth(sigma_background, f_min) * z_factor_max # Longitud en la dirección z\n",
    "\n",
    "    # Setting the domain length in z-direction\n",
    "    for nz_down in range(n_max): # Ajusta \"hz_down\" hasta que la suma de las celdas en \"hz_down\" supera \"lz\"\n",
    "        hz_down = dz_min*pfz_down**np.arange(nz_down)[::-1]\n",
    "        if hz_down.sum()>lz:\n",
    "            break\n",
    "    hz_up = [(dz_min, npadz_up, pfz_up)]\n",
    "    hz_up = dis_utils.unpack_widths(hz_up)\n",
    "    hz = np.r_[hz_down, hz_up]   \n",
    "\n",
    "    # Cálculo de la dimensión lateral -----\n",
    "    d_station = np.diff(rx_locs[:,0]).min() # Distancia mínima entre estaciones receptoras\n",
    "    dx_min = np.round(d_station/spacing_factor) # Tamaño mínimo de celda en la dirección lateral\n",
    "    lx = rx_locs[:,0].max() - rx_locs[:,0].min() # Longitud en la dirección x\n",
    "    ncx = int(lx / dx_min)\n",
    "    lx_pad = skin_depth(sigma_background, f_min) * x_factor_max # Longitud de padding en la dirección x\n",
    "    for npadx in range(n_max): # Ajusta \"hx_pad\" hasta que la suma de las celdas en \"hz_pad\" supera \"lx_pad\"\n",
    "        hx_pad = dis_utils.unpack_widths([(dx_min, npadx, -pfx)])\n",
    "        if hx_pad.sum()>lx_pad:\n",
    "            break\n",
    "    hx = [(dx_min, npadx, -pfx), (dx_min, ncx), (dx_min, npadx, pfx)]  \n",
    "    \n",
    "    mesh = discretize.TensorMesh([hx, hz])\n",
    "    mesh.origin = np.r_[-mesh.h[0][:npadx].sum()+rx_locs[:,0].min(), -hz_down.sum()]   \n",
    "    print (mesh)\n",
    "    return mesh"
   ]
  },
  {
   "cell_type": "code",
   "execution_count": null,
   "id": "3ba77b70",
   "metadata": {},
   "outputs": [],
   "source": [
    "mesh = generate_2d_mesh_for_mt(\n",
    "    rx_locs, \n",
    "    frequencies, \n",
    "    1e-2)\n",
    "ind_active = mesh.cell_centers[:,1]<0.\n",
    "\n",
    "print (\"Rx\")\n",
    "print (rx_locs)\n",
    "print (\"Freqs\")\n",
    "print (frequencies)"
   ]
  },
  {
   "cell_type": "code",
   "execution_count": null,
   "id": "28325adf",
   "metadata": {},
   "outputs": [],
   "source": [
    "ax = mesh.plot_grid()\n",
    "ax.set_xlim(-50000, 370000)\n",
    "ax.set_ylim(-200000, 5000)\n",
    "ax.plot(rx_locs[:, 0], rx_locs[:, 1], \"rv\")"
   ]
  },
  {
   "cell_type": "markdown",
   "id": "d999376c",
   "metadata": {},
   "source": [
    "## Crear Fuentes y Receptores"
   ]
  },
  {
   "cell_type": "code",
   "execution_count": 5,
   "id": "a21d3b29",
   "metadata": {
    "iooxa": {
     "id": {
      "block": "BMoZiVPj2FxcaczVrf2x",
      "project": "BZ9XlZu3TFKIem4fwsfm",
      "version": 1
     },
     "outputId": null
    }
   },
   "outputs": [],
   "source": [
    "# simulation class for TM mode\n",
    "rx_list_tm = [\n",
    "    nsem.receivers.PointNaturalSource(\n",
    "        rx_locs, orientation=\"xy\", component=\"apparent_resistivity\"\n",
    "    ),\n",
    "    nsem.receivers.PointNaturalSource(\n",
    "        rx_locs, orientation=\"xy\", component=\"phase\"\n",
    "    ),\n",
    "]\n",
    "src_list_tm = [nsem.sources.Planewave(rx_list_tm, frequency=f) for f in frequencies]\n",
    "survey_tm = nsem.Survey(src_list_tm)\n",
    "\n",
    "act_map = maps.InjectActiveCells(mesh, ind_active, np.log(1e-8))\n",
    "exp_map = maps.ExpMap(mesh=mesh)\n",
    "sigma_map = exp_map * act_map\n",
    "\n",
    "sim_tm= nsem.simulation.Simulation2DElectricField(\n",
    "    mesh,\n",
    "    survey=survey_tm,\n",
    "    sigmaMap=sigma_map,\n",
    "    solver=Solver,\n",
    ")\n",
    "\n",
    "# simulation class for TE mode\n",
    "rx_list_te = [\n",
    "    nsem.receivers.PointNaturalSource(\n",
    "        rx_locs, orientation=\"yx\", component=\"apparent_resistivity\"\n",
    "    ),\n",
    "    nsem.receivers.PointNaturalSource(\n",
    "        rx_locs, orientation=\"yx\", component=\"phase\"\n",
    "    ),\n",
    "]\n",
    "src_list_te = [nsem.sources.Planewave(rx_list_te, frequency=f) for f in frequencies]\n",
    "survey_te = nsem.Survey(src_list_te)\n",
    "\n",
    "sim_te = nsem.simulation.Simulation2DMagneticField(\n",
    "    mesh,\n",
    "    survey=survey_te,\n",
    "    sigmaMap=sigma_map,\n",
    "    solver=Solver,\n",
    ")"
   ]
  },
  {
   "cell_type": "code",
   "execution_count": 6,
   "id": "0025b53a",
   "metadata": {},
   "outputs": [],
   "source": [
    "dobs_te = np.hstack((app_rho_te, phase_te)).flatten()\n",
    "dobs_tm = np.hstack((app_rho_tm, phase_tm)).flatten()\n",
    "\n",
    "std_te = np.hstack((app_rho_err_te, phase_err_te)).flatten()\n",
    "std_tm = np.hstack((app_rho_err_tm, phase_err_tm)).flatten()"
   ]
  },
  {
   "cell_type": "code",
   "execution_count": 7,
   "id": "83653845",
   "metadata": {},
   "outputs": [
    {
     "name": "stdout",
     "output_type": "stream",
     "text": [
      "54\n",
      "54\n",
      "3\n"
     ]
    }
   ],
   "source": [
    "print(len(rx_locs)*2*len(frequencies))\n",
    "print(len(dobs_te))\n",
    "print(len(phase_te))\n"
   ]
  },
  {
   "cell_type": "code",
   "execution_count": 11,
   "id": "711a8a1f",
   "metadata": {},
   "outputs": [
    {
     "data": {
      "text/plain": [
       "array([[ 89.44342851,  72.82257135,  44.98446484,  14.20548847,\n",
       "          4.98805002,   7.92523267,  37.14096652,  71.90550965,\n",
       "         77.79436939],\n",
       "       [ 96.0897691 , 111.8366866 , 107.91650797, 101.04109534,\n",
       "         69.04644337,  72.64518741, 114.76137581, 104.65139439,\n",
       "         96.97962583],\n",
       "       [106.22813118, 100.13668108,  97.18973656,  99.10094543,\n",
       "         99.71488127,  88.07614064, 101.17019197, 112.56427609,\n",
       "         99.18672871]])"
      ]
     },
     "execution_count": 11,
     "metadata": {},
     "output_type": "execute_result"
    }
   ],
   "source": [
    "len(phase_te)\n",
    "app_rho_te"
   ]
  },
  {
   "cell_type": "code",
   "execution_count": 31,
   "id": "86aec87c",
   "metadata": {},
   "outputs": [],
   "source": [
    "m0 = np.ones(ind_active.sum()) * np.log(1./rho_0)"
   ]
  },
  {
   "cell_type": "markdown",
   "id": "c60e350c",
   "metadata": {},
   "source": [
    "## Inversion"
   ]
  },
  {
   "cell_type": "code",
   "execution_count": 32,
   "id": "bf7ccccb",
   "metadata": {
    "iooxa": {
     "id": {
      "block": "jooCIWTXkEsG2QDbdYRO",
      "project": "BZ9XlZu3TFKIem4fwsfm",
      "version": 1
     },
     "outputId": {
      "block": "r64s82e8aDhQ3dZZROve",
      "project": "BZ9XlZu3TFKIem4fwsfm",
      "version": 1
     }
    },
    "scrolled": false
   },
   "outputs": [
    {
     "name": "stdout",
     "output_type": "stream",
     "text": [
      "\n",
      "                        SimPEG.InvProblem is setting bfgsH0 to the inverse of the eval2Deriv.\n",
      "                        ***Done using same Solver, and solver_opts as the Simulation2DMagneticField problem***\n",
      "                        \n",
      "model has any nan: 0\n",
      "============================ Inexact Gauss Newton ============================\n",
      "  #     beta     phi_d     phi_m       f      |proj(x-g)-x|  LS    Comment   \n",
      "-----------------------------------------------------------------------------\n",
      "x0 has any nan: 0\n",
      "   0  4.14e-06  1.35e+05  0.00e+00  1.35e+05    2.89e+04      0              \n",
      "   1  2.07e-06  7.38e+03  1.16e+09  9.78e+03    2.09e+03      0              \n",
      "   2  1.04e-06  5.98e+02  1.41e+09  2.06e+03    1.58e+02      0   Skip BFGS  \n",
      "   3  5.18e-07  2.65e+02  1.08e+09  8.22e+02    1.15e+02      0              \n",
      "   4  2.59e-07  1.84e+02  6.10e+08  3.42e+02    7.17e+01      0              \n",
      "   5  1.30e-07  1.03e+02  7.16e+08  1.95e+02    6.80e+01      0              \n",
      "   6  6.48e-08  9.87e+01  6.77e+08  1.43e+02    6.27e+01      0              \n",
      "Reached starting chifact with l2-norm regularization: Start IRLS steps...\n",
      "irls_threshold 6.569432978397851\n",
      "   7  3.24e-08  5.01e+01  1.04e+09  8.37e+01    4.28e+01      0              \n",
      "   8  5.65e-08  3.62e+01  1.11e+09  9.88e+01    3.75e+01      0              \n",
      "   9  1.05e-07  3.13e+01  1.20e+09  1.57e+02    2.87e+01      0              \n",
      "  10  1.86e-07  3.54e+01  1.00e+09  2.22e+02    2.49e+01      0              \n",
      "  11  2.90e-07  4.80e+01  8.98e+08  3.08e+02    3.36e+01      0              \n",
      "  12  2.27e-07  6.62e+01  7.16e+08  2.29e+02    3.84e+01      0              \n",
      "  13  2.27e-07  5.78e+01  6.61e+08  2.08e+02    1.79e+01      0              \n",
      "  14  1.87e-07  6.02e+01  6.00e+08  1.72e+02    1.43e+01      0              \n",
      "  15  1.54e-07  5.99e+01  5.37e+08  1.43e+02    1.65e+01      0              \n",
      "  16  1.27e-07  6.05e+01  5.15e+08  1.26e+02    1.85e+01      0              \n",
      "  17  1.27e-07  5.76e+01  4.50e+08  1.15e+02    1.44e+01      0              \n",
      "  18  1.27e-07  5.72e+01  4.01e+08  1.08e+02    1.80e+01      0              \n",
      "  19  1.27e-07  5.45e+01  3.38e+08  9.74e+01    2.00e+01      0              \n",
      "  20  1.27e-07  5.09e+01  3.02e+08  8.93e+01    2.07e+01      0              \n",
      "  21  1.27e-07  4.87e+01  2.43e+08  7.96e+01    1.69e+01      0              \n",
      "  22  2.02e-07  4.55e+01  2.02e+08  8.63e+01    2.11e+01      0              \n",
      "  23  3.20e-07  4.65e+01  1.47e+08  9.35e+01    1.90e+01      0              \n",
      "  24  5.01e-07  4.76e+01  1.16e+08  1.06e+02    1.72e+01      0              \n",
      "  25  5.01e-07  4.97e+01  9.18e+07  9.57e+01    1.35e+01      0              \n",
      "  26  5.01e-07  4.96e+01  7.75e+07  8.84e+01    1.44e+01      0   Skip BFGS  \n",
      "  27  5.01e-07  5.00e+01  6.42e+07  8.22e+01    1.66e+01      0              \n",
      "  28  7.82e-07  4.81e+01  5.60e+07  9.19e+01    3.48e+01      0              \n",
      "  29  7.82e-07  5.18e+01  4.26e+07  8.51e+01    2.41e+01      0              \n",
      "  30  7.82e-07  5.19e+01  3.73e+07  8.10e+01    2.34e+01      0              \n",
      "------------------------- STOP! -------------------------\n",
      "1 : |fc-fOld| = 4.0413e+00 <= tolF*(1+|f0|) = 1.3538e+04\n",
      "1 : |xc-x_last| = 5.4622e-01 <= tolX*(1+|x0|) = 1.6627e+01\n",
      "0 : |proj(x-g)-x|    = 2.3363e+01 <= tolG          = 1.0000e-01\n",
      "0 : |proj(x-g)-x|    = 2.3363e+01 <= 1e3*eps       = 1.0000e-02\n",
      "1 : maxIter   =      30    <= iter          =     30\n",
      "------------------------- DONE! -------------------------\n"
     ]
    }
   ],
   "source": [
    "te_data_object = data.Data(survey_te, dobs=dobs_te, standard_deviation=std_te) \n",
    "tm_data_object = data.Data(survey_tm, dobs=dobs_tm, standard_deviation=std_tm) \n",
    "dmis_te = data_misfit.L2DataMisfit(data=te_data_object, simulation=sim_te)\n",
    "dmis_tm = data_misfit.L2DataMisfit(data=tm_data_object, simulation=sim_tm)\n",
    "dmis = dmis_te + dmis_tm\n",
    "\n",
    "# Define the regularization (model objective function)\n",
    "reg = regularization.Sparse(\n",
    "    mesh,\n",
    "    indActive=ind_active,\n",
    "    # ERROR -> \n",
    "    reference_model=m0,\n",
    "    # Antes -> mref=m0\n",
    "    # Corregir -> reference_model=m0\n",
    "    alpha_s=alpha_s,\n",
    "    alpha_x=alpha_y,\n",
    "    alpha_y=alpha_z,\n",
    "    mapping=maps.IdentityMap(nP=int(ind_active.sum()))\n",
    ")\n",
    "\n",
    "# Define how the optimization problem is solved. Here we will use an\n",
    "# Inexact Gauss Newton approach.\n",
    "opt = optimization.InexactGaussNewton(maxIter=maxIter, maxIterCG=30)\n",
    "\n",
    "# Here we define the inverse problem that is to be solved\n",
    "inv_prob = inverse_problem.BaseInvProblem(dmis, reg, opt)\n",
    "\n",
    "#######################################################################\n",
    "# Define MT Inversion Directives\n",
    "# ------------------------------\n",
    "#\n",
    "# Here we define any directives that are carried out during the inversion. This\n",
    "# includes the cooling schedule for the trade-off parameter (beta), stopping\n",
    "# criteria for the inversion and saving inversion results at each iteration.\n",
    "#\n",
    "\n",
    "# Defining a starting value for the trade-off parameter (beta) between the data\n",
    "# misfit and the regularization.\n",
    "starting_beta = directives.BetaEstimate_ByEig(beta0_ratio=1)\n",
    "\n",
    "# Set the rate of reduction in trade-off parameter (beta) each time the\n",
    "# the inverse problem is solved. And set the number of Gauss-Newton iterations\n",
    "# for each trade-off paramter value.\n",
    "beta_schedule = directives.BetaSchedule(coolingFactor=2, coolingRate=1)\n",
    "\n",
    "save_dictionary = directives.SaveOutputDictEveryIteration()\n",
    "save_dictionary.outDict = {}\n",
    "\n",
    "# Setting a stopping criteria for the inversion.\n",
    "target_misfit = directives.TargetMisfit(chifact=1)\n",
    "\n",
    "if use_irls:\n",
    "    # ERROR --->\n",
    "    reg.norms = np.r_[p_s, p_y, p_z]\n",
    "    # Antes -> np.c_\n",
    "    # Corregir -> np.r_\n",
    "\n",
    "    # Reach target misfit for L2 solution, then use IRLS until model stops changing.\n",
    "    IRLS = directives.Update_IRLS(max_irls_iterations=40, minGNiter=1, f_min_change=1e-5)\n",
    "\n",
    "    # The directives are defined as a list.\n",
    "    directives_list = [\n",
    "        IRLS,\n",
    "        starting_beta,\n",
    "        save_dictionary,\n",
    "    ]\n",
    "else:\n",
    "    directives_list = [\n",
    "        starting_beta,\n",
    "        beta_schedule,\n",
    "        save_dictionary,\n",
    "        target_misfit,\n",
    "    ]\n",
    "\n",
    "    \n",
    "#####################################################################\n",
    "# Running the MT Inversion\n",
    "# ------------------------\n",
    "#\n",
    "# To define the inversion object, we need to define the inversion problem and\n",
    "# the set of directives. We can then run the inversion.\n",
    "#\n",
    "\n",
    "# Here we combine the inverse problem and the set of directives\n",
    "mt_inversion = inversion.BaseInversion(inv_prob, directiveList=directives_list)\n",
    "\n",
    "# Run inversion\n",
    "recovered_conductivity_model = mt_inversion.run(m0)"
   ]
  },
  {
   "cell_type": "markdown",
   "id": "4bf53bc6",
   "metadata": {},
   "source": [
    "## Visualización"
   ]
  },
  {
   "cell_type": "code",
   "execution_count": 23,
   "id": "61460e61",
   "metadata": {},
   "outputs": [],
   "source": [
    "output_dict = save_dictionary.outDict\n",
    "target_misfit = (dobs_te.size+dobs_tm.size) / 2.\n",
    "iterations = list(output_dict.keys())\n",
    "n_iteration = len(iterations)\n",
    "phi_ds = np.zeros(n_iteration)\n",
    "phi_ms = np.zeros(n_iteration)\n",
    "betas = np.zeros(n_iteration)\n",
    "for ii, iteration in enumerate(iterations):\n",
    "    phi_ds[ii] = output_dict[iteration]['phi_d']\n",
    "    phi_ms[ii] = output_dict[iteration]['phi_m']\n",
    "    betas[ii] = output_dict[iteration]['beta']"
   ]
  },
  {
   "cell_type": "code",
   "execution_count": 24,
   "id": "f15772bf",
   "metadata": {},
   "outputs": [],
   "source": [
    "import matplotlib\n",
    "matplotlib.rcParams['font.size'] = 14\n",
    "def tikhonov_curve(iteration, scale='log'):\n",
    "    fig, ax = plt.subplots(1,1, figsize=(5,5))\n",
    "    ax.plot(phi_ms, phi_ds)\n",
    "    ax.plot(phi_ms[iteration-1], phi_ds[iteration-1], 'ro')\n",
    "    ax.set_xlabel(\"$\\phi_m$\")\n",
    "    ax.set_ylabel(\"$\\phi_d$\")\n",
    "    if scale == 'log':\n",
    "        ax.set_xscale('log')\n",
    "        ax.set_yscale('log')\n",
    "    xlim = ax.get_xlim()\n",
    "    ax.plot(xlim, np.ones(2) * target_misfit, '--')\n",
    "    ax.set_title(\"Iteration={:d}, Beta = {:.1e}\".format(iteration, betas[iteration-1]))\n",
    "    ax.set_xlim(xlim)\n",
    "    plt.show()"
   ]
  },
  {
   "cell_type": "code",
   "execution_count": 25,
   "id": "edcc7a0b",
   "metadata": {},
   "outputs": [
    {
     "data": {
      "application/vnd.jupyter.widget-view+json": {
       "model_id": "c8e64aa82ab949c68dd2aec27ec404f2",
       "version_major": 2,
       "version_minor": 0
      },
      "text/plain": [
       "interactive(children=(IntSlider(value=30, description='iteration', max=30, min=1), RadioButtons(description='s…"
      ]
     },
     "metadata": {},
     "output_type": "display_data"
    }
   ],
   "source": [
    "from ipywidgets import interact, widgets\n",
    "Q_iter = interact(\n",
    "    tikhonov_curve, \n",
    "    iteration=widgets.IntSlider(min=1, max=int(n_iteration), value=n_iteration),\n",
    "    scale=widgets.RadioButtons(options=['linear', 'log'])\n",
    ")"
   ]
  },
  {
   "cell_type": "code",
   "execution_count": 26,
   "id": "96321432",
   "metadata": {},
   "outputs": [],
   "source": [
    "from matplotlib.colors import LogNorm\n",
    "mesh_true = input_data['mesh']\n",
    "sigma_true = input_data['sigma']\n",
    "iteration = Q_iter.widget.kwargs['iteration']\n",
    "m = output_dict[iteration]['m']"
   ]
  },
  {
   "cell_type": "code",
   "execution_count": 27,
   "id": "5d342691",
   "metadata": {},
   "outputs": [],
   "source": [
    "def foo_model(iteration):\n",
    "    fig, axs = plt.subplots(2,1, figsize=(10, 6))\n",
    "    ax, ax1 = axs\n",
    "    m = output_dict[iteration]['m']\n",
    "    sigma = np.ones(mesh.nC) * 1e-8\n",
    "    sigma[ind_active] = np.exp(m)\n",
    "    sigma_min = 1e-3\n",
    "    sigma_max = 10\n",
    "    grid= False\n",
    "    out = mesh.plot_image(\n",
    "        sigma, grid=grid, ax=ax, pcolor_opts={'norm':LogNorm(vmin=sigma_min, vmax=sigma_max), 'cmap':'turbo'},\n",
    "        range_x=(-60000, 60000), range_y=(-30000, 0)\n",
    "    )\n",
    "    cb = plt.colorbar(out[0], fraction=0.01, ax=ax)\n",
    "    cb.set_label(\"Conductivity (S/m)\")\n",
    "    ax.set_aspect(1)\n",
    "    ax.set_xlabel(\"Easting (m)\")\n",
    "    ax.set_ylabel(\"Elevation (m)\")\n",
    "    ax.plot(rx_locs[:,0], rx_locs[:,1], 'ro')\n",
    "    out = mesh_true.plot_image(\n",
    "        sigma_true, grid=grid, ax=ax1, pcolor_opts={'norm':LogNorm(vmin=sigma_min, vmax=sigma_max), 'cmap':'turbo'},\n",
    "        range_x=(-60000, 60000), range_y=(-30000, 0)\n",
    "    )\n",
    "    cb = plt.colorbar(out[0], fraction=0.01, ax=ax1)\n",
    "    cb.set_label(\"Conductivity (S/m)\")\n",
    "    ax1.set_aspect(1)\n",
    "    ax1.set_xlabel(\"Easting (m)\")\n",
    "    ax1.set_ylabel(\"Elevation (m)\")"
   ]
  },
  {
   "cell_type": "code",
   "execution_count": 28,
   "id": "1b7cc244",
   "metadata": {},
   "outputs": [
    {
     "data": {
      "application/vnd.jupyter.widget-view+json": {
       "model_id": "96eaf83757264f399cf0106fb86cca7e",
       "version_major": 2,
       "version_minor": 0
      },
      "text/plain": [
       "interactive(children=(IntSlider(value=30, description='iteration', max=30, min=1), Output()), _dom_classes=('w…"
      ]
     },
     "metadata": {},
     "output_type": "display_data"
    }
   ],
   "source": [
    "Q_misfit = interact(\n",
    "    foo_model, \n",
    "    iteration=widgets.IntSlider(min=1, max=n_iteration, value=iteration),\n",
    ")    "
   ]
  },
  {
   "cell_type": "code",
   "execution_count": 21,
   "id": "46301f08",
   "metadata": {},
   "outputs": [],
   "source": [
    "n_freq = len(frequencies)\n",
    "n_rx = rx_locs.shape[0]"
   ]
  },
  {
   "cell_type": "code",
   "execution_count": 22,
   "id": "794519b9",
   "metadata": {},
   "outputs": [],
   "source": [
    "PRED_te = pred_te.reshape((n_freq, 2, n_rx))\n",
    "PRED_tm = pred_tm.reshape((n_freq, 2, n_rx))\n",
    "\n",
    "rho_app_te_pred = PRED_te[:,0,:]\n",
    "rho_app_tm_pred = PRED_tm[:,0,:]\n",
    "\n",
    "phase_te_pred = PRED_te[:,1,:]\n",
    "phase_tm_pred = PRED_tm[:,1,:]\n",
    "\n",
    "DOBS_te = dobs_te.reshape((n_freq, 2, n_rx))\n",
    "DOBS_tm = dobs_tm.reshape((n_freq, 2, n_rx))\n",
    "\n",
    "rho_app_te_dobs = DOBS_te[:,0,:]\n",
    "rho_app_tm_dobs = DOBS_tm[:,0,:]\n",
    "\n",
    "phase_te_dobs = DOBS_te[:,1,:]\n",
    "phase_tm_dobs = DOBS_tm[:,1,:]"
   ]
  },
  {
   "cell_type": "code",
   "execution_count": 23,
   "id": "9fb3b538",
   "metadata": {},
   "outputs": [],
   "source": [
    "def foo_pred(irx):\n",
    "    import matplotlib\n",
    "    matplotlib.rcParams['font.size'] = 10\n",
    "\n",
    "    fig, axs = plt.subplots(4,1, figsize=(8, 10))\n",
    "    ax1, ax2, ax3, ax4 = axs\n",
    "    ax1.loglog(1./frequencies, rho_app_te_pred[:, irx], color='C0')\n",
    "    ax1.loglog(1./frequencies, rho_app_te_dobs[:, irx], 'x', color='C0')\n",
    "    ax2.loglog(1./frequencies, rho_app_tm_pred[:, irx], color='C1')\n",
    "    ax2.loglog(1./frequencies, rho_app_tm_dobs[:, irx], 'x', color='C1')\n",
    "    for ax in axs[:2]:\n",
    "        ax.set_ylim(1, 1000)\n",
    "        ax.set_ylabel(\"App. Res. (Ohm-m)\")\n",
    "        ax.grid(which='both', alpha=0.3)\n",
    "    ax3.semilogx(1./frequencies, phase_te_pred[:, irx], color='C0')\n",
    "    ax3.semilogx(1./frequencies, phase_te_dobs[:, irx], 'x', color='C0')\n",
    "    ax4.semilogx(1./frequencies, phase_tm_pred[:, irx]+180, color='C1')\n",
    "    ax4.semilogx(1./frequencies, phase_tm_dobs[:, irx]+180, 'x', color='C1')\n",
    "    for ax in axs[2:]:\n",
    "        ax.set_ylim(0, 90)\n",
    "        ax.set_ylabel(\"Phase (degree)\")\n",
    "        ax.grid(which='both', alpha=0.3)\n",
    "    ax4.set_xlabel(\"Period (s)\")"
   ]
  },
  {
   "cell_type": "code",
   "execution_count": 24,
   "id": "20fb9d8a",
   "metadata": {},
   "outputs": [
    {
     "data": {
      "application/vnd.jupyter.widget-view+json": {
       "model_id": "2a585b8353ce4e6a9fbb3e9dd1115f4b",
       "version_major": 2,
       "version_minor": 0
      },
      "text/plain": [
       "interactive(children=(IntSlider(value=0, description='irx', max=8), Output()), _dom_classes=('widget-interact'…"
      ]
     },
     "metadata": {},
     "output_type": "display_data"
    }
   ],
   "source": [
    "Q_misfit = interact(\n",
    "    foo_pred, \n",
    "    irx=widgets.IntSlider(min=0, max=int(n_rx)-1, value=0),\n",
    ")"
   ]
  },
  {
   "cell_type": "code",
   "execution_count": null,
   "id": "c14e51b9",
   "metadata": {},
   "outputs": [],
   "source": []
  }
 ],
 "metadata": {
  "iooxa": {
   "id": {
    "block": "AmsQ22MsxNuusoFgNU4Z",
    "project": "BZ9XlZu3TFKIem4fwsfm",
    "version": 1
   }
  },
  "kernelspec": {
   "display_name": "Python 3 (ipykernel)",
   "language": "python",
   "name": "python3"
  },
  "language_info": {
   "codemirror_mode": {
    "name": "ipython",
    "version": 3
   },
   "file_extension": ".py",
   "mimetype": "text/x-python",
   "name": "python",
   "nbconvert_exporter": "python",
   "pygments_lexer": "ipython3",
   "version": "3.11.0"
  }
 },
 "nbformat": 4,
 "nbformat_minor": 5
}
